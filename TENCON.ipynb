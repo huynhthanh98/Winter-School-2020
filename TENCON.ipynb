{
  "nbformat": 4,
  "nbformat_minor": 0,
  "metadata": {
    "colab": {
      "name": "Copy of fast.ipynb",
      "provenance": [],
      "collapsed_sections": [],
      "toc_visible": true
    },
    "kernelspec": {
      "name": "python3",
      "display_name": "Python 3"
    },
    "accelerator": "GPU",
    "widgets": {
      "application/vnd.jupyter.widget-state+json": {
        "07f6a1054e9848f2862d2d684c4ce9f7": {
          "model_module": "@jupyter-widgets/controls",
          "model_name": "HBoxModel",
          "state": {
            "_view_name": "HBoxView",
            "_dom_classes": [],
            "_model_name": "HBoxModel",
            "_view_module": "@jupyter-widgets/controls",
            "_model_module_version": "1.5.0",
            "_view_count": null,
            "_view_module_version": "1.5.0",
            "box_style": "",
            "layout": "IPY_MODEL_4e68ae893c6b402984f261b6fe8d9a69",
            "_model_module": "@jupyter-widgets/controls",
            "children": [
              "IPY_MODEL_60bc277059c9463ab1fbf1770a4ca01a",
              "IPY_MODEL_738595629a9f4b21a6ae07bd60466152"
            ]
          }
        },
        "4e68ae893c6b402984f261b6fe8d9a69": {
          "model_module": "@jupyter-widgets/base",
          "model_name": "LayoutModel",
          "state": {
            "_view_name": "LayoutView",
            "grid_template_rows": null,
            "right": null,
            "justify_content": null,
            "_view_module": "@jupyter-widgets/base",
            "overflow": null,
            "_model_module_version": "1.2.0",
            "_view_count": null,
            "flex_flow": null,
            "width": null,
            "min_width": null,
            "border": null,
            "align_items": null,
            "bottom": null,
            "_model_module": "@jupyter-widgets/base",
            "top": null,
            "grid_column": null,
            "overflow_y": null,
            "overflow_x": null,
            "grid_auto_flow": null,
            "grid_area": null,
            "grid_template_columns": null,
            "flex": null,
            "_model_name": "LayoutModel",
            "justify_items": null,
            "grid_row": null,
            "max_height": null,
            "align_content": null,
            "visibility": null,
            "align_self": null,
            "height": null,
            "min_height": null,
            "padding": null,
            "grid_auto_rows": null,
            "grid_gap": null,
            "max_width": null,
            "order": null,
            "_view_module_version": "1.2.0",
            "grid_template_areas": null,
            "object_position": null,
            "object_fit": null,
            "grid_auto_columns": null,
            "margin": null,
            "display": null,
            "left": null
          }
        },
        "60bc277059c9463ab1fbf1770a4ca01a": {
          "model_module": "@jupyter-widgets/controls",
          "model_name": "FloatProgressModel",
          "state": {
            "_view_name": "ProgressView",
            "style": "IPY_MODEL_93cff84d012b41c7b77912b97a1d1da3",
            "_dom_classes": [],
            "description": "",
            "_model_name": "FloatProgressModel",
            "bar_style": "success",
            "max": 1,
            "_view_module": "@jupyter-widgets/controls",
            "_model_module_version": "1.5.0",
            "value": 1,
            "_view_count": null,
            "_view_module_version": "1.5.0",
            "orientation": "horizontal",
            "min": 0,
            "description_tooltip": null,
            "_model_module": "@jupyter-widgets/controls",
            "layout": "IPY_MODEL_fc6240002f184a628b072f1a3732316f"
          }
        },
        "738595629a9f4b21a6ae07bd60466152": {
          "model_module": "@jupyter-widgets/controls",
          "model_name": "HTMLModel",
          "state": {
            "_view_name": "HTMLView",
            "style": "IPY_MODEL_7731f419f56448e0ba930d7d13118850",
            "_dom_classes": [],
            "description": "",
            "_model_name": "HTMLModel",
            "placeholder": "​",
            "_view_module": "@jupyter-widgets/controls",
            "_model_module_version": "1.5.0",
            "value": " 400000/? [01:29&lt;00:00, 4454.22it/s]",
            "_view_count": null,
            "_view_module_version": "1.5.0",
            "description_tooltip": null,
            "_model_module": "@jupyter-widgets/controls",
            "layout": "IPY_MODEL_f4efe19be97647e595852a65a33e108a"
          }
        },
        "93cff84d012b41c7b77912b97a1d1da3": {
          "model_module": "@jupyter-widgets/controls",
          "model_name": "ProgressStyleModel",
          "state": {
            "_view_name": "StyleView",
            "_model_name": "ProgressStyleModel",
            "description_width": "initial",
            "_view_module": "@jupyter-widgets/base",
            "_model_module_version": "1.5.0",
            "_view_count": null,
            "_view_module_version": "1.2.0",
            "bar_color": null,
            "_model_module": "@jupyter-widgets/controls"
          }
        },
        "fc6240002f184a628b072f1a3732316f": {
          "model_module": "@jupyter-widgets/base",
          "model_name": "LayoutModel",
          "state": {
            "_view_name": "LayoutView",
            "grid_template_rows": null,
            "right": null,
            "justify_content": null,
            "_view_module": "@jupyter-widgets/base",
            "overflow": null,
            "_model_module_version": "1.2.0",
            "_view_count": null,
            "flex_flow": null,
            "width": null,
            "min_width": null,
            "border": null,
            "align_items": null,
            "bottom": null,
            "_model_module": "@jupyter-widgets/base",
            "top": null,
            "grid_column": null,
            "overflow_y": null,
            "overflow_x": null,
            "grid_auto_flow": null,
            "grid_area": null,
            "grid_template_columns": null,
            "flex": null,
            "_model_name": "LayoutModel",
            "justify_items": null,
            "grid_row": null,
            "max_height": null,
            "align_content": null,
            "visibility": null,
            "align_self": null,
            "height": null,
            "min_height": null,
            "padding": null,
            "grid_auto_rows": null,
            "grid_gap": null,
            "max_width": null,
            "order": null,
            "_view_module_version": "1.2.0",
            "grid_template_areas": null,
            "object_position": null,
            "object_fit": null,
            "grid_auto_columns": null,
            "margin": null,
            "display": null,
            "left": null
          }
        },
        "7731f419f56448e0ba930d7d13118850": {
          "model_module": "@jupyter-widgets/controls",
          "model_name": "DescriptionStyleModel",
          "state": {
            "_view_name": "StyleView",
            "_model_name": "DescriptionStyleModel",
            "description_width": "",
            "_view_module": "@jupyter-widgets/base",
            "_model_module_version": "1.5.0",
            "_view_count": null,
            "_view_module_version": "1.2.0",
            "_model_module": "@jupyter-widgets/controls"
          }
        },
        "f4efe19be97647e595852a65a33e108a": {
          "model_module": "@jupyter-widgets/base",
          "model_name": "LayoutModel",
          "state": {
            "_view_name": "LayoutView",
            "grid_template_rows": null,
            "right": null,
            "justify_content": null,
            "_view_module": "@jupyter-widgets/base",
            "overflow": null,
            "_model_module_version": "1.2.0",
            "_view_count": null,
            "flex_flow": null,
            "width": null,
            "min_width": null,
            "border": null,
            "align_items": null,
            "bottom": null,
            "_model_module": "@jupyter-widgets/base",
            "top": null,
            "grid_column": null,
            "overflow_y": null,
            "overflow_x": null,
            "grid_auto_flow": null,
            "grid_area": null,
            "grid_template_columns": null,
            "flex": null,
            "_model_name": "LayoutModel",
            "justify_items": null,
            "grid_row": null,
            "max_height": null,
            "align_content": null,
            "visibility": null,
            "align_self": null,
            "height": null,
            "min_height": null,
            "padding": null,
            "grid_auto_rows": null,
            "grid_gap": null,
            "max_width": null,
            "order": null,
            "_view_module_version": "1.2.0",
            "grid_template_areas": null,
            "object_position": null,
            "object_fit": null,
            "grid_auto_columns": null,
            "margin": null,
            "display": null,
            "left": null
          }
        }
      }
    }
  },
  "cells": [
    {
      "cell_type": "code",
      "metadata": {
        "id": "0myiv6YvwUPA",
        "colab": {
          "base_uri": "https://localhost:8080/"
        },
        "outputId": "658ed75e-f670-4589-ff08-4f03f157c6b8"
      },
      "source": [
        "from tensorflow.python.client import device_lib\n",
        "device_lib.list_local_devices()"
      ],
      "execution_count": null,
      "outputs": [
        {
          "output_type": "execute_result",
          "data": {
            "text/plain": [
              "[name: \"/device:CPU:0\"\n",
              " device_type: \"CPU\"\n",
              " memory_limit: 268435456\n",
              " locality {\n",
              " }\n",
              " incarnation: 2660281137408809392, name: \"/device:XLA_CPU:0\"\n",
              " device_type: \"XLA_CPU\"\n",
              " memory_limit: 17179869184\n",
              " locality {\n",
              " }\n",
              " incarnation: 11006887537001188520\n",
              " physical_device_desc: \"device: XLA_CPU device\", name: \"/device:XLA_GPU:0\"\n",
              " device_type: \"XLA_GPU\"\n",
              " memory_limit: 17179869184\n",
              " locality {\n",
              " }\n",
              " incarnation: 6564560939908503473\n",
              " physical_device_desc: \"device: XLA_GPU device\", name: \"/device:GPU:0\"\n",
              " device_type: \"GPU\"\n",
              " memory_limit: 14640891840\n",
              " locality {\n",
              "   bus_id: 1\n",
              "   links {\n",
              "   }\n",
              " }\n",
              " incarnation: 7599836679375759604\n",
              " physical_device_desc: \"device: 0, name: Tesla T4, pci bus id: 0000:00:04.0, compute capability: 7.5\"]"
            ]
          },
          "metadata": {
            "tags": []
          },
          "execution_count": 1
        }
      ]
    },
    {
      "cell_type": "code",
      "metadata": {
        "id": "5LaoVQRemiWy",
        "colab": {
          "base_uri": "https://localhost:8080/"
        },
        "outputId": "7ae6cf8e-7272-45c0-ac98-34ac584dd39f"
      },
      "source": [
        "!pip install tensorflow==2.1.0"
      ],
      "execution_count": null,
      "outputs": [
        {
          "output_type": "stream",
          "text": [
            "Collecting tensorflow==2.1.0\n",
            "\u001b[?25l  Downloading https://files.pythonhosted.org/packages/85/d4/c0cd1057b331bc38b65478302114194bd8e1b9c2bbc06e300935c0e93d90/tensorflow-2.1.0-cp36-cp36m-manylinux2010_x86_64.whl (421.8MB)\n",
            "\u001b[K\n",
            "^C\n"
          ],
          "name": "stdout"
        }
      ]
    },
    {
      "cell_type": "code",
      "metadata": {
        "id": "45pN2GtJuqJZ",
        "colab": {
          "base_uri": "https://localhost:8080/"
        },
        "outputId": "599ed9b6-e037-403d-f84e-1b3e5139cbd0"
      },
      "source": [
        "from google.colab import drive\n",
        "drive.mount(\"/content/drive\")"
      ],
      "execution_count": null,
      "outputs": [
        {
          "output_type": "stream",
          "text": [
            "Mounted at /content/drive\n"
          ],
          "name": "stdout"
        }
      ]
    },
    {
      "cell_type": "code",
      "metadata": {
        "id": "FQzyb_n0OfrP",
        "colab": {
          "base_uri": "https://localhost:8080/"
        },
        "outputId": "ce254434-c3cb-4176-a732-407bf004e135"
      },
      "source": [
        "import tensorflow as tf\n",
        "print(tf.version)"
      ],
      "execution_count": null,
      "outputs": [
        {
          "output_type": "stream",
          "text": [
            "<module 'tensorflow._api.v2.version' from '/usr/local/lib/python3.6/dist-packages/tensorflow/_api/v2/version/__init__.py'>\n"
          ],
          "name": "stdout"
        }
      ]
    },
    {
      "cell_type": "code",
      "metadata": {
        "id": "8QDHsTJhVAol",
        "colab": {
          "base_uri": "https://localhost:8080/",
          "height": 202
        },
        "outputId": "c0bbebc1-2658-4b96-f987-20412d5df4cd"
      },
      "source": [
        "!wget https://dl.fbaipublicfiles.com/fasttext/vectors-wiki/wiki.en.vec #/content/drive/My Drive/AISIA/data/"
      ],
      "execution_count": null,
      "outputs": [
        {
          "output_type": "stream",
          "text": [
            "--2020-07-30 14:07:06--  https://dl.fbaipublicfiles.com/fasttext/vectors-wiki/wiki.en.vec\n",
            "Resolving dl.fbaipublicfiles.com (dl.fbaipublicfiles.com)... 104.22.74.142, 172.67.9.4, 104.22.75.142, ...\n",
            "Connecting to dl.fbaipublicfiles.com (dl.fbaipublicfiles.com)|104.22.74.142|:443... connected.\n",
            "HTTP request sent, awaiting response... 200 OK\n",
            "Length: 6597238061 (6.1G) [binary/octet-stream]\n",
            "Saving to: ‘wiki.en.vec’\n",
            "\n",
            "wiki.en.vec         100%[===================>]   6.14G  11.5MB/s    in 9m 15s  \n",
            "\n",
            "2020-07-30 14:16:22 (11.3 MB/s) - ‘wiki.en.vec’ saved [6597238061/6597238061]\n",
            "\n"
          ],
          "name": "stdout"
        }
      ]
    },
    {
      "cell_type": "markdown",
      "metadata": {
        "id": "f6fVkD2i0sdZ"
      },
      "source": [
        "#LIBRARY"
      ]
    },
    {
      "cell_type": "code",
      "metadata": {
        "id": "TzrQ6-udwxla"
      },
      "source": [
        "from sklearn.feature_extraction.text import CountVectorizer\n",
        "from sklearn.feature_extraction.text import TfidfTransformer\n",
        "from sklearn.feature_extraction.text import TfidfVectorizer\n",
        "from sklearn.feature_extraction.text import CountVectorizer\n",
        "from sklearn.preprocessing import OneHotEncoder\n",
        "# Keras\n",
        "import tensorflow as tf\n",
        "import tensorflow.keras as keras\n",
        "from tensorflow.keras.preprocessing.text import Tokenizer\n",
        "from tensorflow.keras.preprocessing.sequence import pad_sequences\n",
        "from tensorflow.keras.models import Sequential\n",
        "from tensorflow.keras.layers import Dense, Flatten, LSTM, Conv1D, GlobalMaxPooling1D, Dropout, Activation, GRU, Bidirectional, MaxPooling1D\n",
        "from tensorflow.keras.layers import Embedding\n",
        "# NLTK\n",
        "import nltk\n",
        "from nltk.corpus import stopwords\n",
        "from itertools import product\n",
        "# Other\n",
        "import numpy as np\n",
        "import pandas as pd\n",
        "import pickle\n",
        "import re\n",
        "import string\n",
        "import math\n",
        "import pandas as pd\n",
        "from keras.utils import plot_model"
      ],
      "execution_count": null,
      "outputs": []
    },
    {
      "cell_type": "markdown",
      "metadata": {
        "id": "COHB_IXM06fo"
      },
      "source": [
        "#LOAD DATA AND PROCESSING"
      ]
    },
    {
      "cell_type": "code",
      "metadata": {
        "id": "mnWXAx7-xT87"
      },
      "source": [
        "stop = [\"a\", \"about\", \"above\", \"above\", \"across\", \"after\", \"afterwards\", \"again\", \"against\", \"all\", \"almost\", \"alone\", \"along\", \"already\", \"also\",\"although\",\"always\",\"am\",\"among\", \"amongst\", \"amoungst\", \"amount\",  \"an\", \"and\", \"another\", \"any\",\"anyhow\",\"anyone\",\"anything\",\"anyway\", \"anywhere\", \"are\", \"around\", \"as\",  \"at\", \"back\",\"be\",\"became\", \"because\",\"become\",\"becomes\", \"becoming\", \"been\", \"before\", \"beforehand\", \"behind\", \"being\", \"below\", \"beside\", \"besides\", \"between\", \"beyond\", \"bill\", \"both\", \"bottom\",\"but\", \"by\", \"call\", \"can\", \"cannot\", \"cant\", \"co\", \"con\", \"could\", \"couldnt\", \"cry\", \"de\", \"describe\", \"detail\", \"do\", \"done\", \"down\", \"due\", \"during\", \"each\", \"eg\", \"eight\", \"either\", \"eleven\",\"else\", \"elsewhere\", \"empty\", \"enough\", \"etc\", \"even\", \"ever\", \"every\", \"everyone\", \"everything\", \"everywhere\", \"except\", \"few\", \"fifteen\", \"fify\", \"fill\", \"find\", \"fire\", \"first\", \"five\", \"for\", \"former\", \"formerly\", \"forty\", \"found\", \"four\", \"from\", \"front\", \"full\", \"further\", \"get\", \"give\", \"go\", \"had\", \"has\", \"hasnt\", \"have\", \"he\", \"hence\", \"her\", \"here\", \"hereafter\", \"hereby\", \"herein\", \"hereupon\", \"hers\", \"herself\", \"him\", \"himself\", \"his\", \"how\", \"however\", \"hundred\", \"ie\", \"if\", \"in\", \"inc\", \"indeed\", \"interest\", \"into\", \"is\", \"isnt\", \"it\", \"its\", \"itself\", \"keep\", \"keeps\", \"kept\", \"last\", \"latter\", \"latterly\", \"least\", \"less\", \"ltd\", \"made\", \"many\", \"may\", \"me\", \"meanwhile\", \"might\", \"mill\", \"mine\", \"more\", \"moreover\", \"most\", \"mostly\", \"move\", \"much\", \"must\", \"my\", \"myself\", \"name\", \"names\", \"named\", \"namely\", \"neither\", \"never\", \"nevertheless\", \"next\", \"nine\", \"no\", \"nobody\", \"none\", \"noone\", \"nor\", \"not\", \"nothing\", \"now\", \"nowhere\", \"of\", \"off\", \"often\", \"ok\", \"on\", \"once\", \"one\", \"only\", \"onto\", \"or\", \"other\", \"others\", \"otherwise\", \"our\", \"ours\", \"ourselves\", \"out\", \"over\", \"own\",\"part\", \"per\", \"perhaps\", \"please\", \"put\", \"puts\", \"rather\", \"re\", \"same\", \"see\", \"seem\", \"seemed\", \"seeming\", \"seems\", \"sees\", \"serious\", \"several\", \"she\", \"should\", \"show\", \"shows\", \"showed\", \"side\", \"since\", \"sincere\", \"six\", \"sixty\", \"so\", \"some\", \"somehow\", \"someone\", \"something\", \"sometime\", \"sometimes\", \"somewhere\", \"still\", \"such\", \"system\", \"take\", \"ten\", \"than\", \"that\", \"the\", \"their\", \"them\", \"themselves\", \"then\", \"thence\", \"there\", \"thereafter\", \"thereby\", \"therefore\", \"therein\", \"thereupon\", \"these\", \"they\", \"thickv\", \"thin\", \"third\", \"this\", \"those\", \"though\", \"three\", \"through\", \"throughout\", \"thru\", \"thus\", \"to\", \"together\", \"too\", \"top\", \"toward\", \"towards\", \"twelve\", \"twenty\", \"two\", \"un\", \"under\", \"until\", \"up\", \"upon\", \"us\", \"very\", \"via\", \"was\", \"we\", \"well\", \"were\", \"what\", \"whatever\", \"when\", \"whence\", \"whenever\", \"where\", \"whereafter\", \"whereas\", \"whereby\", \"wherein\", \"whereupon\", \"wherever\", \"whether\", \"which\", \"while\", \"whither\", \"who\", \"whoever\", \"whole\", \"whom\", \"whose\", \"why\", \"will\", \"with\", \"within\", \"without\", \"would\", \"yet\", \"you\", \"your\", \"yours\", \"yourself\", \"yourselves\", \"the\", \"b\", \"c\", \"d\", \"e\", \"f\", \"g\", \"h\", \"i\", \"j\", \"k\", \"l\", \"m\", \"n\", \"o\", \"p\", \"q\", \"r\", \"s\", \"t\", \"u\", \"v\", \"w\", \"x\", \"y\", \"z\"]"
      ],
      "execution_count": null,
      "outputs": []
    },
    {
      "cell_type": "code",
      "metadata": {
        "id": "9pE2qGz10ZUT",
        "colab": {
          "base_uri": "https://localhost:8080/"
        },
        "outputId": "19cb8aed-cf49-4a2c-dee4-34deb437e92d"
      },
      "source": [
        "# Pre-processing function\n",
        "nltk.download('stopwords')\n",
        "stop_words = set(stopwords.words('english')) \n",
        "from nltk.stem import PorterStemmer\n",
        "st = PorterStemmer()\n",
        "\n",
        "# Pre-processing function\n",
        "nltk.download('stopwords')\n",
        "stop_words = set(stopwords.words('english')) \n",
        "\n",
        "def preprocess_abstract(text):\n",
        "    text = re.sub(\"[-]+\", \" \", text)\n",
        "    text=text.lower()\n",
        "    text = re.sub(\"\\d+\", \"\", text)\n",
        "    text = re.sub(\"[^\\w]\", \" \", text)\n",
        "\n",
        "    filtered_sentence = [] \n",
        "    for w in text.split(\" \"): \n",
        "        if w not in stop: \n",
        "            filtered_sentence.append(w)\n",
        "    return \" \".join(filtered_sentence)\n",
        "    # return text\n",
        "    \n",
        "def preprocess_keywords(text):\n",
        "    if type(text)==str:\n",
        "        text=text.lower()\n",
        "        text = re.sub(\"\\d+\", \"\", text)\n",
        "        text = re.sub(\"[^\\w]\", \" \", text)\n",
        "        text=\" \".join(text.split())\n",
        "    return text\n",
        "\n"
      ],
      "execution_count": null,
      "outputs": [
        {
          "output_type": "stream",
          "text": [
            "[nltk_data] Downloading package stopwords to /root/nltk_data...\n",
            "[nltk_data]   Package stopwords is already up-to-date!\n",
            "[nltk_data] Downloading package stopwords to /root/nltk_data...\n",
            "[nltk_data]   Package stopwords is already up-to-date!\n"
          ],
          "name": "stdout"
        }
      ]
    },
    {
      "cell_type": "code",
      "metadata": {
        "id": "tygCRtSm0bl5"
      },
      "source": [
        "field = [\"Key\"]\n",
        "\n",
        "# Preprocessing for train\n",
        "df_train=pd.read_csv('https://raw.githubusercontent.com/huynhthanh98/Winter-School-2020/main/re_data.csv', encoding = \"ISO-8859-1\")\n",
        "df_train = df_train.iloc[df_train[field].dropna().index, :]\n",
        "df_train[\"Abstract1\"] = df_train[\"Abstract\"].map(preprocess_abstract)\n",
        "df_train[\"Title1\"] = df_train[\"Title\"].map(preprocess_abstract)\n",
        "df_train[\"Key1\"] = df_train[\"Key\"].map(preprocess_keywords)\n",
        "    \n",
        "\n",
        "# Preprocessing for test data\n",
        "df_test=pd.read_csv('https://raw.githubusercontent.com/huynhthanh98/Winter-School-2020/main/re_data_test.csv', encoding = \"ISO-8859-1\")\n",
        "df_test = df_test.iloc[df_test[field].dropna().index, :]\n",
        "df_test[\"Abstract\"] = df_test[\"Abstract\"].map(preprocess_abstract)\n",
        "df_test[\"Title\"] = df_test[\"Title\"].map(preprocess_abstract)\n",
        "df_test[\"Key\"] = df_test[\"Key\"].map(preprocess_keywords)"
      ],
      "execution_count": null,
      "outputs": []
    },
    {
      "cell_type": "code",
      "metadata": {
        "id": "LSMXynR87T93",
        "colab": {
          "base_uri": "https://localhost:8080/",
          "height": 687
        },
        "outputId": "e8a7afb1-199a-47fc-f45a-4869934aa1d6"
      },
      "source": [
        "df_test"
      ],
      "execution_count": null,
      "outputs": [
        {
          "output_type": "execute_result",
          "data": {
            "text/html": [
              "<div>\n",
              "<style scoped>\n",
              "    .dataframe tbody tr th:only-of-type {\n",
              "        vertical-align: middle;\n",
              "    }\n",
              "\n",
              "    .dataframe tbody tr th {\n",
              "        vertical-align: top;\n",
              "    }\n",
              "\n",
              "    .dataframe thead th {\n",
              "        text-align: right;\n",
              "    }\n",
              "</style>\n",
              "<table border=\"1\" class=\"dataframe\">\n",
              "  <thead>\n",
              "    <tr style=\"text-align: right;\">\n",
              "      <th></th>\n",
              "      <th>ID</th>\n",
              "      <th>Title</th>\n",
              "      <th>Abstract</th>\n",
              "      <th>KeyWord</th>\n",
              "      <th>ConferenceID</th>\n",
              "      <th>Key</th>\n",
              "      <th>category</th>\n",
              "      <th>abbr</th>\n",
              "    </tr>\n",
              "  </thead>\n",
              "  <tbody>\n",
              "    <tr>\n",
              "      <th>0</th>\n",
              "      <td>3</td>\n",
              "      <td>covert ephemeral communication data networking</td>\n",
              "      <td>recent years  growing belief current ip based ...</td>\n",
              "      <td>NaN</td>\n",
              "      <td>60</td>\n",
              "      <td>security and privacy network security</td>\n",
              "      <td>ACM Conference on Computer and Communications ...</td>\n",
              "      <td>CCS</td>\n",
              "    </tr>\n",
              "    <tr>\n",
              "      <th>1</th>\n",
              "      <td>6</td>\n",
              "      <td>automated protocol reverse engineering using s...</td>\n",
              "      <td>network security products  nids application fi...</td>\n",
              "      <td>NaN</td>\n",
              "      <td>60</td>\n",
              "      <td>networks network protocols software and its en...</td>\n",
              "      <td>ACM Conference on Computer and Communications ...</td>\n",
              "      <td>CCS</td>\n",
              "    </tr>\n",
              "    <tr>\n",
              "      <th>2</th>\n",
              "      <td>9</td>\n",
              "      <td>otit  secure provenance modeling location proofs</td>\n",
              "      <td>personal mobile devices location based service...</td>\n",
              "      <td>NaN</td>\n",
              "      <td>60</td>\n",
              "      <td>security and privacy</td>\n",
              "      <td>ACM Conference on Computer and Communications ...</td>\n",
              "      <td>CCS</td>\n",
              "    </tr>\n",
              "    <tr>\n",
              "      <th>3</th>\n",
              "      <td>12</td>\n",
              "      <td>privacy outsourced means clustering</td>\n",
              "      <td>attractive organization outsource data analyti...</td>\n",
              "      <td>NaN</td>\n",
              "      <td>60</td>\n",
              "      <td>information systems data management systems da...</td>\n",
              "      <td>ACM Conference on Computer and Communications ...</td>\n",
              "      <td>CCS</td>\n",
              "    </tr>\n",
              "    <tr>\n",
              "      <th>4</th>\n",
              "      <td>15</td>\n",
              "      <td>differential privacy     neighbourhood spatial...</td>\n",
              "      <td>differential privacy provides strong guarantee...</td>\n",
              "      <td>NaN</td>\n",
              "      <td>60</td>\n",
              "      <td>information systems information systems applic...</td>\n",
              "      <td>ACM Conference on Computer and Communications ...</td>\n",
              "      <td>CCS</td>\n",
              "    </tr>\n",
              "    <tr>\n",
              "      <th>...</th>\n",
              "      <td>...</td>\n",
              "      <td>...</td>\n",
              "      <td>...</td>\n",
              "      <td>...</td>\n",
              "      <td>...</td>\n",
              "      <td>...</td>\n",
              "      <td>...</td>\n",
              "      <td>...</td>\n",
              "    </tr>\n",
              "    <tr>\n",
              "      <th>4660</th>\n",
              "      <td>14385</td>\n",
              "      <td>linear fitted iteration multiple reward functions</td>\n",
              "      <td>present general detailed development algorithm...</td>\n",
              "      <td>NaN</td>\n",
              "      <td>37</td>\n",
              "      <td>reinforcement learning dynamic programming dec...</td>\n",
              "      <td>Journal of Machine Learning Research</td>\n",
              "      <td>JMLR</td>\n",
              "    </tr>\n",
              "    <tr>\n",
              "      <th>4661</th>\n",
              "      <td>14388</td>\n",
              "      <td>sparse unique nonnegative matrix factorization...</td>\n",
              "      <td>nonnegative matrix factorization  nmf  popular...</td>\n",
              "      <td>NaN</td>\n",
              "      <td>37</td>\n",
              "      <td>nonnegative matrix factorization data preproce...</td>\n",
              "      <td>Journal of Machine Learning Research</td>\n",
              "      <td>JMLR</td>\n",
              "    </tr>\n",
              "    <tr>\n",
              "      <th>4662</th>\n",
              "      <td>14391</td>\n",
              "      <td>fast approximation matrix coherence statistica...</td>\n",
              "      <td>statistical leverage scores   matrix    squar...</td>\n",
              "      <td>NaN</td>\n",
              "      <td>37</td>\n",
              "      <td>matrix coherence statistical leverage randomiz...</td>\n",
              "      <td>Journal of Machine Learning Research</td>\n",
              "      <td>JMLR</td>\n",
              "    </tr>\n",
              "    <tr>\n",
              "      <th>4663</th>\n",
              "      <td>14394</td>\n",
              "      <td>regularized bundle methods convex non convex r...</td>\n",
              "      <td>machine learning cast optimization problem  id...</td>\n",
              "      <td>NaN</td>\n",
              "      <td>37</td>\n",
              "      <td>optimization non convex non smooth cutting pla...</td>\n",
              "      <td>Journal of Machine Learning Research</td>\n",
              "      <td>JMLR</td>\n",
              "    </tr>\n",
              "    <tr>\n",
              "      <th>4664</th>\n",
              "      <td>14397</td>\n",
              "      <td>smoothing multivariate performance measures</td>\n",
              "      <td>optimizing multivariate performance measure im...</td>\n",
              "      <td>NaN</td>\n",
              "      <td>37</td>\n",
              "      <td>non smooth optimization max margin methods mul...</td>\n",
              "      <td>Journal of Machine Learning Research</td>\n",
              "      <td>JMLR</td>\n",
              "    </tr>\n",
              "  </tbody>\n",
              "</table>\n",
              "<p>4453 rows × 8 columns</p>\n",
              "</div>"
            ],
            "text/plain": [
              "         ID  ...  abbr\n",
              "0         3  ...   CCS\n",
              "1         6  ...   CCS\n",
              "2         9  ...   CCS\n",
              "3        12  ...   CCS\n",
              "4        15  ...   CCS\n",
              "...     ...  ...   ...\n",
              "4660  14385  ...  JMLR\n",
              "4661  14388  ...  JMLR\n",
              "4662  14391  ...  JMLR\n",
              "4663  14394  ...  JMLR\n",
              "4664  14397  ...  JMLR\n",
              "\n",
              "[4453 rows x 8 columns]"
            ]
          },
          "metadata": {
            "tags": []
          },
          "execution_count": 13
        }
      ]
    },
    {
      "cell_type": "markdown",
      "metadata": {
        "id": "owmam7z6pkuj"
      },
      "source": [
        "Chạy lại từng feature thì từ bước này"
      ]
    },
    {
      "cell_type": "code",
      "metadata": {
        "id": "3612Oyyg6pO-"
      },
      "source": [
        "df_train[\"content\"] = df_train[\"Abstract\"] + \" \" + df_train[\"Key\"]  + \" \" + df_train[\"Title\"]\n",
        "df_test[\"content\"] = df_test[\"Abstract\"] + \" \" + df_test[\"Key\"] + \" \" + df_test[\"Title\"]\n",
        "#chọn features cần dùng\n",
        "#df_train[\"content\"] = df_train[\"Title\"]\n",
        "#df_test[\"content\"] = df_test[\"Title\"]"
      ],
      "execution_count": null,
      "outputs": []
    },
    {
      "cell_type": "code",
      "metadata": {
        "id": "3-e2y9Kp3WyQ"
      },
      "source": [
        "vocabulary_size = 50000\n",
        "tokenizer = Tokenizer(num_words=vocabulary_size)\n",
        "tokenizer.fit_on_texts(df_train[\"content\"])\n",
        "# Tokenize\n",
        "sequences = tokenizer.texts_to_sequences(df_train[\"content\"])\n",
        "data = pad_sequences(sequences)\n",
        "\n",
        "sequences = tokenizer.texts_to_sequences(df_test[\"content\"])\n",
        "data_test = pad_sequences(sequences, maxlen=len(data[0]))\n",
        "\n",
        "# saving\n",
        "with open('tokenizer_Feature.pickle', 'wb') as handle:\n",
        "    pickle.dump(tokenizer, handle, protocol=pickle.HIGHEST_PROTOCOL)"
      ],
      "execution_count": null,
      "outputs": []
    },
    {
      "cell_type": "code",
      "metadata": {
        "id": "zUls1HLC6nHq"
      },
      "source": [
        "labels1 = {label:index for \n",
        "index, label in enumerate(df_train.loc[:, \"category\"].unique())}\n",
        "y_train1 = [labels1[value] for index, value in df_train.loc[:, 'category'].iteritems()]\n",
        "y_test1 = [labels1[value] for index, value in df_test.loc[:, 'category'].iteritems()]"
      ],
      "execution_count": null,
      "outputs": []
    },
    {
      "cell_type": "code",
      "metadata": {
        "id": "Y76yWiYvM-lR"
      },
      "source": [
        ""
      ],
      "execution_count": null,
      "outputs": []
    },
    {
      "cell_type": "code",
      "metadata": {
        "id": "QErCJTTz6xHB"
      },
      "source": [
        "onehot_encoder = OneHotEncoder(sparse=False)\n",
        "\n",
        "train_y = np.array(y_train1)\n",
        "train_y = onehot_encoder.fit_transform(train_y.reshape(len(train_y), 1))\n",
        "\n",
        "test_y = np.array(y_test1)\n",
        "test_y = onehot_encoder.transform(test_y.reshape(len(test_y), 1))"
      ],
      "execution_count": null,
      "outputs": []
    },
    {
      "cell_type": "markdown",
      "metadata": {
        "id": "vIw6gzbOQIcj"
      },
      "source": [
        "#Glove embedding"
      ]
    },
    {
      "cell_type": "code",
      "metadata": {
        "id": "cydZ97dHwEoF",
        "colab": {
          "base_uri": "https://localhost:8080/"
        },
        "outputId": "6421fadd-0e6c-4e30-c1d9-99e2ff63514e"
      },
      "source": [
        "!pip install Pydrive"
      ],
      "execution_count": null,
      "outputs": [
        {
          "output_type": "stream",
          "text": [
            "Requirement already satisfied: Pydrive in /usr/local/lib/python3.6/dist-packages (1.3.1)\n",
            "Requirement already satisfied: google-api-python-client>=1.2 in /usr/local/lib/python3.6/dist-packages (from Pydrive) (1.7.12)\n",
            "Requirement already satisfied: PyYAML>=3.0 in /usr/local/lib/python3.6/dist-packages (from Pydrive) (3.13)\n",
            "Requirement already satisfied: oauth2client>=4.0.0 in /usr/local/lib/python3.6/dist-packages (from Pydrive) (4.1.3)\n",
            "Requirement already satisfied: uritemplate<4dev,>=3.0.0 in /usr/local/lib/python3.6/dist-packages (from google-api-python-client>=1.2->Pydrive) (3.0.1)\n",
            "Requirement already satisfied: httplib2<1dev,>=0.17.0 in /usr/local/lib/python3.6/dist-packages (from google-api-python-client>=1.2->Pydrive) (0.17.4)\n",
            "Requirement already satisfied: six<2dev,>=1.6.1 in /usr/local/lib/python3.6/dist-packages (from google-api-python-client>=1.2->Pydrive) (1.15.0)\n",
            "Requirement already satisfied: google-auth>=1.4.1 in /usr/local/lib/python3.6/dist-packages (from google-api-python-client>=1.2->Pydrive) (1.17.2)\n",
            "Requirement already satisfied: google-auth-httplib2>=0.0.3 in /usr/local/lib/python3.6/dist-packages (from google-api-python-client>=1.2->Pydrive) (0.0.4)\n",
            "Requirement already satisfied: pyasn1>=0.1.7 in /usr/local/lib/python3.6/dist-packages (from oauth2client>=4.0.0->Pydrive) (0.4.8)\n",
            "Requirement already satisfied: pyasn1-modules>=0.0.5 in /usr/local/lib/python3.6/dist-packages (from oauth2client>=4.0.0->Pydrive) (0.2.8)\n",
            "Requirement already satisfied: rsa>=3.1.4 in /usr/local/lib/python3.6/dist-packages (from oauth2client>=4.0.0->Pydrive) (4.6)\n",
            "Requirement already satisfied: setuptools>=40.3.0 in /usr/local/lib/python3.6/dist-packages (from google-auth>=1.4.1->google-api-python-client>=1.2->Pydrive) (50.3.2)\n",
            "Requirement already satisfied: cachetools<5.0,>=2.0.0 in /usr/local/lib/python3.6/dist-packages (from google-auth>=1.4.1->google-api-python-client>=1.2->Pydrive) (4.1.1)\n"
          ],
          "name": "stdout"
        }
      ]
    },
    {
      "cell_type": "code",
      "metadata": {
        "id": "TORls006hybK"
      },
      "source": [
        "from pydrive.auth import GoogleAuth\n",
        "from pydrive.drive import GoogleDrive\n",
        "from google.colab import auth\n",
        "from oauth2client.client import GoogleCredentials"
      ],
      "execution_count": null,
      "outputs": []
    },
    {
      "cell_type": "code",
      "metadata": {
        "id": "MEDu249Oh3Wq"
      },
      "source": [
        "auth.authenticate_user()\n",
        "gauth = GoogleAuth()\n",
        "gauth.credentials = GoogleCredentials.get_application_default()\n",
        "drive = GoogleDrive(gauth)"
      ],
      "execution_count": null,
      "outputs": []
    },
    {
      "cell_type": "code",
      "metadata": {
        "id": "csGyh4fxklzu"
      },
      "source": [
        "downloaded = drive.CreateFile({'id':\"1FrRTxsrtkX_NUcXSM23MATHBByEstYcg\"})   \n",
        "downloaded.GetContentFile('glove')        "
      ],
      "execution_count": null,
      "outputs": []
    },
    {
      "cell_type": "code",
      "metadata": {
        "id": "BeJaVQAB65Uz",
        "colab": {
          "base_uri": "https://localhost:8080/",
          "height": 82,
          "referenced_widgets": [
            "07f6a1054e9848f2862d2d684c4ce9f7",
            "4e68ae893c6b402984f261b6fe8d9a69",
            "60bc277059c9463ab1fbf1770a4ca01a",
            "738595629a9f4b21a6ae07bd60466152",
            "93cff84d012b41c7b77912b97a1d1da3",
            "fc6240002f184a628b072f1a3732316f",
            "7731f419f56448e0ba930d7d13118850",
            "f4efe19be97647e595852a65a33e108a"
          ]
        },
        "outputId": "033e64a0-49d4-4676-a706-07fd9ccc85c5"
      },
      "source": [
        "import numpy as np\n",
        "import codecs\n",
        "from tqdm.notebook import tqdm\n",
        "\n",
        "embeddings_index = dict()\n",
        "f = codecs.open('glove', encoding='utf-8')\n",
        "for line in tqdm(f):\n",
        "    values = line.rstrip().rsplit(' ')\n",
        "    word = values[0]\n",
        "    coefs = np.asarray(values[1:], dtype='float32')\n",
        "    embeddings_index[word] = coefs\n",
        "print('Loaded %s word vectors.' % len(embeddings_index))"
      ],
      "execution_count": null,
      "outputs": [
        {
          "output_type": "display_data",
          "data": {
            "application/vnd.jupyter.widget-view+json": {
              "model_id": "07f6a1054e9848f2862d2d684c4ce9f7",
              "version_minor": 0,
              "version_major": 2
            },
            "text/plain": [
              "HBox(children=(FloatProgress(value=1.0, bar_style='info', max=1.0), HTML(value='')))"
            ]
          },
          "metadata": {
            "tags": []
          }
        },
        {
          "output_type": "stream",
          "text": [
            "\n",
            "Loaded 400000 word vectors.\n"
          ],
          "name": "stdout"
        }
      ]
    },
    {
      "cell_type": "code",
      "metadata": {
        "id": "gl7Mu1uPXPU8",
        "colab": {
          "base_uri": "https://localhost:8080/"
        },
        "outputId": "e633aec8-bb8c-45e1-e465-b4a2981570f4"
      },
      "source": [
        "embeddings_index[\"terribly\"]"
      ],
      "execution_count": null,
      "outputs": [
        {
          "output_type": "execute_result",
          "data": {
            "text/plain": [
              "array([-1.0177e-01, -9.6991e-03, -2.4060e-01,  2.7557e-01, -1.8083e-01,\n",
              "        2.4574e-01,  1.2661e-01, -3.0773e-01,  1.9943e-02,  2.1485e-01,\n",
              "        5.5262e-02, -4.9741e-02, -1.4222e-01, -1.8231e-01,  1.1499e-01,\n",
              "       -2.0756e-01, -7.5181e-02,  2.7774e-02, -9.8849e-02,  3.6808e-01,\n",
              "       -7.1266e-02,  2.3991e-01, -3.2634e-01, -3.3675e-01, -7.9666e-02,\n",
              "       -1.4925e-01,  1.6497e-01,  2.5201e-01,  4.8785e-02,  1.6555e-01,\n",
              "       -3.8431e-01,  2.8114e-01, -1.4547e-01,  2.8101e-01,  7.6443e-02,\n",
              "       -1.3921e-01, -3.8150e-01, -1.4577e-01,  1.0340e-01, -1.1460e-01,\n",
              "       -2.5587e-01,  2.7008e-01, -1.2234e-01, -2.0886e-01,  7.4508e-02,\n",
              "        2.2793e-01,  2.4561e-01, -2.4557e-02,  4.4447e-02, -1.4796e-01,\n",
              "       -1.9941e-01, -2.9757e-01,  2.9341e-01, -2.9035e-01,  6.1889e-02,\n",
              "        1.6995e-01, -5.0833e-02,  8.2540e-02, -2.0620e-01,  4.7175e-01,\n",
              "       -3.5888e-01, -1.6530e-01,  1.0924e-01, -9.0328e-02,  1.1462e-01,\n",
              "       -2.8727e-01,  2.6604e-01,  5.2378e-02,  3.1493e-01, -8.9808e-02,\n",
              "        2.0516e-01,  3.1290e-01,  1.1417e-01, -1.5038e-01,  7.8304e-02,\n",
              "        3.2367e-01, -7.3830e-02,  2.4265e-01, -1.6721e-01,  8.5351e-02,\n",
              "       -4.3068e-02, -2.3066e-01,  3.2944e-01,  3.2630e-01,  4.4049e-02,\n",
              "        1.6797e-01, -2.0699e-01,  1.6329e-01, -1.5924e-02, -1.3043e-01,\n",
              "        1.2996e-01, -2.1102e-01,  1.4192e-01, -1.0154e-01, -1.1863e-01,\n",
              "        2.4199e-01,  6.1347e-01,  1.2006e-01, -9.0763e-02,  2.6660e-01,\n",
              "       -1.1430e-01, -1.0332e-01,  1.9032e-01, -5.5824e-02, -8.1066e-02,\n",
              "       -1.8815e-01, -3.1903e-01,  2.1161e-01,  1.4732e-01, -1.2766e-01,\n",
              "       -1.0413e-01, -1.4746e-01,  9.1361e-02,  1.3884e-01,  3.7017e-01,\n",
              "       -2.6428e-01,  5.9969e-02,  3.2032e-03,  2.8346e-01,  1.1465e-01,\n",
              "        3.4463e-02,  3.2560e-02,  1.2546e-01,  5.8238e-01,  6.4167e-02,\n",
              "       -4.1522e-02,  1.7469e-01, -4.2982e-01, -9.7131e-02,  2.0209e-01,\n",
              "       -1.2771e-01,  1.6716e-01, -1.6923e-01,  1.9617e-01,  1.8250e-01,\n",
              "       -1.1691e-01, -1.6018e-01,  6.0710e-02,  1.8317e-01,  9.7749e-02,\n",
              "       -1.1622e-01,  5.8478e-02,  2.8564e-01, -9.5460e-02, -2.3291e-02,\n",
              "       -1.0619e-02, -3.7111e-01,  5.5003e-02, -1.2679e-01, -2.7701e-01,\n",
              "        2.4028e-01,  3.1999e-02,  4.8303e-02,  2.1085e-02, -2.3737e-01,\n",
              "       -2.2802e-02,  6.1173e-02, -5.8781e-02,  2.1549e-01,  3.2788e-01,\n",
              "       -6.5803e-02,  3.1234e-01, -1.8192e-01, -1.0529e-01, -1.1137e-01,\n",
              "        1.2032e-02, -1.2850e-02, -7.0063e-02,  2.8631e-01,  1.6129e-01,\n",
              "       -8.8851e-02, -1.9485e-01, -2.1691e-01,  2.1539e-02, -7.1209e-02,\n",
              "        9.0143e-02, -1.7603e-01, -3.8658e-02,  2.0253e-01, -3.5787e-01,\n",
              "        3.8791e-01,  9.1055e-02,  3.2321e-01, -6.7966e-02,  5.0487e-02,\n",
              "        4.2260e-01, -2.0986e-01, -7.7817e-02,  2.9270e-01, -1.8176e-01,\n",
              "        2.1541e-01, -2.6674e-01, -1.5293e-01,  4.3038e-01, -9.4695e-02,\n",
              "       -5.9515e-02, -1.7720e-01, -6.5827e-02, -3.7537e-01, -1.8275e-01,\n",
              "        1.6711e-01,  1.2565e-01,  2.2266e-01,  4.2902e-02,  7.2634e-02,\n",
              "        7.1399e-02, -1.0592e-01, -5.5554e-02,  1.4663e-01,  5.4192e-05,\n",
              "        4.0023e-01, -1.1268e-01,  1.3846e-01, -1.3469e-01, -3.5741e-02,\n",
              "       -2.8409e-01, -2.1574e-01, -1.6704e-01,  6.2263e-02,  2.6015e-01,\n",
              "       -2.0507e-02, -1.1151e-01, -1.6339e-01, -1.6415e-01,  7.8091e-02,\n",
              "        1.8562e-01, -8.6927e-02, -8.1157e-02, -1.3375e-01,  2.5995e-01,\n",
              "       -3.3092e-02,  4.1775e-01, -5.2825e-02, -4.1335e-01, -2.6413e-01,\n",
              "        2.9931e-01,  3.0320e-01, -1.8099e-02,  2.2195e-01, -9.6593e-03,\n",
              "        2.8126e-01,  1.1565e-01,  4.2147e-01, -4.2659e-03, -2.9776e-01,\n",
              "        4.4160e-02,  2.2409e-01,  3.2910e-02, -2.1118e-01,  1.1450e-02,\n",
              "       -7.5064e-02, -1.7871e-01, -2.0578e-01,  5.0389e-03, -9.0010e-03,\n",
              "       -2.4455e-01,  3.3694e-02, -1.4408e-01, -1.1192e-01,  1.9079e-01,\n",
              "        6.9955e-02, -1.3431e-01, -1.4807e-01, -1.6405e-01, -2.2448e-01,\n",
              "       -3.2157e-01, -8.9080e-02,  9.1499e-02, -7.0177e-02, -5.6555e-02,\n",
              "       -2.3970e-01,  1.8355e-01,  7.3239e-02,  2.5922e-01, -1.3472e-01,\n",
              "       -1.9497e-01,  5.8410e-02,  9.1254e-02, -1.7329e-01, -2.4268e-03,\n",
              "        2.6146e-01,  6.4008e-02,  5.9706e-02,  1.2283e-02, -1.1455e-01,\n",
              "        6.7352e-02,  1.5000e-01,  3.5293e-01, -1.7841e-01, -2.9108e-01,\n",
              "        1.0647e-01,  4.6379e-01, -1.8735e-01, -2.1819e-01,  1.5706e-01,\n",
              "        2.2592e-02, -2.0466e-01, -8.7320e-02,  3.0425e-01, -1.1783e-01],\n",
              "      dtype=float32)"
            ]
          },
          "metadata": {
            "tags": []
          },
          "execution_count": 34
        }
      ]
    },
    {
      "cell_type": "code",
      "metadata": {
        "id": "P8CtnRUW67JP",
        "colab": {
          "base_uri": "https://localhost:8080/"
        },
        "outputId": "85695dfd-19ea-470f-f4c7-5b592e603c49"
      },
      "source": [
        "print('preparing embedding matrix...')\n",
        "words_not_found = []\n",
        "embedding_matrix = np.zeros((50000, 300))\n",
        "for word, i in tokenizer.word_index.items():\n",
        "    embedding_vector = embeddings_index.get(word)\n",
        "    if (embedding_vector is not None) and len(embedding_vector)!=0:\n",
        "        # words not found in embedding index will be all-zeros.\n",
        "        embedding_matrix[i] = embedding_vector\n",
        "    else:\n",
        "        words_not_found.append(word)\n",
        "print('number of null word embeddings: %d' % np.sum(np.sum(embedding_matrix, axis=1) == 0))"
      ],
      "execution_count": null,
      "outputs": [
        {
          "output_type": "stream",
          "text": [
            "preparing embedding matrix...\n",
            "number of null word embeddings: 26161\n"
          ],
          "name": "stdout"
        }
      ]
    },
    {
      "cell_type": "markdown",
      "metadata": {
        "id": "pblAMbH7QL75"
      },
      "source": [
        "#Train"
      ]
    },
    {
      "cell_type": "code",
      "metadata": {
        "id": "zK2zC1aS6-3C"
      },
      "source": [
        "def train_keras(model_glove):\n",
        "    mc = keras.callbacks.ModelCheckpoint(filepath=\"model_glove_{}.h5\".format(\"_\".join(field)), \n",
        "                                        monitor='val_accuracy',\n",
        "                                        mode='max', \n",
        "                                        verbose=1, \n",
        "                                        save_best_only=True)\n",
        "    history = model_glove.fit(np.array(data), np.array(train_y),\n",
        "                        batch_size=896,\n",
        "                        epochs=40,\n",
        "                        validation_data=(np.array(data_test),\n",
        "                                         np.array(test_y)),\n",
        "                        callbacks=[mc]) \n",
        "\n",
        "    X_test=data_test\n",
        "    y_test=np.array(test_y)\n",
        "    ## Load lại model tốt nhất đã lưu\n",
        "    print(\"best model: \")\n",
        "    model_glove.load_weights(\"model_glove_{}.h5\".format(\"_\".join(field)))\n",
        "\n",
        "def accuracy_measure(model_glove):\n",
        "    y_preds = model_glove.predict(data_test)\n",
        "    y_tests = np.array(y_test1)\n",
        "    y_preds = np.array(y_preds)\n",
        "    for i in [1,3,5,10]:\n",
        "        y_pred = np.argsort(y_preds, axis=1)[:,-i:]\n",
        "        a=0\n",
        "        for j,t in enumerate(y_tests):\n",
        "            if t in y_pred[j]:\n",
        "                a=a+1\n",
        "        print(a/len(y_tests))\n"
      ],
      "execution_count": null,
      "outputs": []
    },
    {
      "cell_type": "code",
      "metadata": {
        "colab": {
          "base_uri": "https://localhost:8080/",
          "height": 758
        },
        "id": "3jufWpCIsP0-",
        "outputId": "2077265c-98f5-4afd-ec08-a4339a874d27"
      },
      "source": [
        "keras.utils.plot_model(model_glove)"
      ],
      "execution_count": null,
      "outputs": [
        {
          "output_type": "execute_result",
          "data": {
            "image/png": "[encoded data removed]",
            "text/plain": [
              "<IPython.core.display.Image object>"
            ]
          },
          "metadata": {
            "tags": []
          },
          "execution_count": 25
        }
      ]
    },
    {
      "cell_type": "code",
      "metadata": {
        "id": "xGUY5Y687Ehj",
        "colab": {
          "base_uri": "https://localhost:8080/",
          "height": 774
        },
        "outputId": "dc8801e6-6589-4125-f3b7-6ad8553d5dee"
      },
      "source": [
        "import functools\n",
        "top3_acc = functools.partial(keras.metrics.top_k_categorical_accuracy,\n",
        "                             k=3)\n",
        "top3_acc.__name__ = \"top3\"\n",
        "top5_acc = functools.partial(keras.metrics.top_k_categorical_accuracy,\n",
        "                             k=5)\n",
        "top5_acc.__name__ = \"top5\"\n",
        "top10_acc = functools.partial(keras.metrics.top_k_categorical_accuracy,\n",
        "                              k=10)\n",
        "top10_acc.__name__ = \"top10\"\n",
        "\n",
        "import time\n",
        "for a, b, c in product([1800],[2], [1000]):\n",
        "    t=time.time()\n",
        "    model_glove = Sequential()\n",
        "    model_glove.add(Embedding(vocabulary_size, 300, \n",
        "                              input_length=len(data[0]), \n",
        "                              weights=[embedding_matrix], \n",
        "                              trainable=False))\n",
        "    model_glove.add(Conv1D(a, b, activation='relu'))\n",
        "    #model_glove.add(Bidirectional(LSTM(200)))\n",
        "    model_glove.add(GlobalMaxPooling1D())\n",
        "    model_glove.add(Flatten())\n",
        "    model_glove.add(Dense(c, activation='relu'))\n",
        "    model_glove.add(Dropout(0.2))\n",
        "#metrics=['accuracy',top3_acc,top5_acc,top10_acc])\n",
        "    # Dac\n",
        "    model_glove.add(Dense(66, activation='softmax'))\n",
        "    # optimizer = keras.optimizers.Adam(learning_rate=0.0005)\n",
        "    model_glove.compile(loss='categorical_crossentropy', \n",
        "                        optimizer=\"Adam\", \n",
        "                        metrics=[\"accuracy\",top3_acc,top5_acc,top10_acc])\n",
        "                        \n",
        "    model_glove.summary()\n",
        "    train_keras(model_glove)\n",
        "    \n",
        "    \n"
      ],
      "execution_count": null,
      "outputs": [
        {
          "output_type": "stream",
          "text": [
            "Model: \"sequential_3\"\n",
            "_________________________________________________________________\n",
            "Layer (type)                 Output Shape              Param #   \n",
            "=================================================================\n",
            "embedding_3 (Embedding)      (None, 592, 300)          15000000  \n",
            "_________________________________________________________________\n",
            "conv1d_3 (Conv1D)            (None, 591, 1800)         1081800   \n",
            "_________________________________________________________________\n",
            "global_max_pooling1d_3 (Glob (None, 1800)              0         \n",
            "_________________________________________________________________\n",
            "flatten_3 (Flatten)          (None, 1800)              0         \n",
            "_________________________________________________________________\n",
            "dense_6 (Dense)              (None, 1000)              1801000   \n",
            "_________________________________________________________________\n",
            "dropout_3 (Dropout)          (None, 1000)              0         \n",
            "_________________________________________________________________\n",
            "dense_7 (Dense)              (None, 66)                66066     \n",
            "=================================================================\n",
            "Total params: 17,948,866\n",
            "Trainable params: 2,948,866\n",
            "Non-trainable params: 15,000,000\n",
            "_________________________________________________________________\n",
            "Epoch 1/40\n",
            "10/10 [==============================] - ETA: 0s - loss: 4.4216 - accuracy: 0.0472 - top3: 0.1159 - top5: 0.1799 - top10: 0.3169"
          ],
          "name": "stdout"
        },
        {
          "output_type": "error",
          "ename": "KeyboardInterrupt",
          "evalue": "ignored",
          "traceback": [
            "\u001b[0;31m---------------------------------------------------------------------------\u001b[0m",
            "\u001b[0;31mKeyboardInterrupt\u001b[0m                         Traceback (most recent call last)",
            "\u001b[0;32m<ipython-input-24-60e248575b74>\u001b[0m in \u001b[0;36m<module>\u001b[0;34m()\u001b[0m\n\u001b[1;32m     33\u001b[0m \u001b[0;34m\u001b[0m\u001b[0m\n\u001b[1;32m     34\u001b[0m     \u001b[0mmodel_glove\u001b[0m\u001b[0;34m.\u001b[0m\u001b[0msummary\u001b[0m\u001b[0;34m(\u001b[0m\u001b[0;34m)\u001b[0m\u001b[0;34m\u001b[0m\u001b[0;34m\u001b[0m\u001b[0m\n\u001b[0;32m---> 35\u001b[0;31m     \u001b[0mtrain_keras\u001b[0m\u001b[0;34m(\u001b[0m\u001b[0mmodel_glove\u001b[0m\u001b[0;34m)\u001b[0m\u001b[0;34m\u001b[0m\u001b[0;34m\u001b[0m\u001b[0m\n\u001b[0m\u001b[1;32m     36\u001b[0m \u001b[0;34m\u001b[0m\u001b[0m\n\u001b[1;32m     37\u001b[0m \u001b[0;34m\u001b[0m\u001b[0m\n",
            "\u001b[0;32m<ipython-input-20-832be4958fec>\u001b[0m in \u001b[0;36mtrain_keras\u001b[0;34m(model_glove)\u001b[0m\n\u001b[1;32m     10\u001b[0m                         validation_data=(np.array(data_test),\n\u001b[1;32m     11\u001b[0m                                          np.array(test_y)),\n\u001b[0;32m---> 12\u001b[0;31m                         callbacks=[mc]) \n\u001b[0m\u001b[1;32m     13\u001b[0m \u001b[0;34m\u001b[0m\u001b[0m\n\u001b[1;32m     14\u001b[0m     \u001b[0mX_test\u001b[0m\u001b[0;34m=\u001b[0m\u001b[0mdata_test\u001b[0m\u001b[0;34m\u001b[0m\u001b[0;34m\u001b[0m\u001b[0m\n",
            "\u001b[0;32m/usr/local/lib/python3.6/dist-packages/tensorflow/python/keras/engine/training.py\u001b[0m in \u001b[0;36m_method_wrapper\u001b[0;34m(self, *args, **kwargs)\u001b[0m\n\u001b[1;32m    106\u001b[0m   \u001b[0;32mdef\u001b[0m \u001b[0m_method_wrapper\u001b[0m\u001b[0;34m(\u001b[0m\u001b[0mself\u001b[0m\u001b[0;34m,\u001b[0m \u001b[0;34m*\u001b[0m\u001b[0margs\u001b[0m\u001b[0;34m,\u001b[0m \u001b[0;34m**\u001b[0m\u001b[0mkwargs\u001b[0m\u001b[0;34m)\u001b[0m\u001b[0;34m:\u001b[0m\u001b[0;34m\u001b[0m\u001b[0;34m\u001b[0m\u001b[0m\n\u001b[1;32m    107\u001b[0m     \u001b[0;32mif\u001b[0m \u001b[0;32mnot\u001b[0m \u001b[0mself\u001b[0m\u001b[0;34m.\u001b[0m\u001b[0m_in_multi_worker_mode\u001b[0m\u001b[0;34m(\u001b[0m\u001b[0;34m)\u001b[0m\u001b[0;34m:\u001b[0m  \u001b[0;31m# pylint: disable=protected-access\u001b[0m\u001b[0;34m\u001b[0m\u001b[0;34m\u001b[0m\u001b[0m\n\u001b[0;32m--> 108\u001b[0;31m       \u001b[0;32mreturn\u001b[0m \u001b[0mmethod\u001b[0m\u001b[0;34m(\u001b[0m\u001b[0mself\u001b[0m\u001b[0;34m,\u001b[0m \u001b[0;34m*\u001b[0m\u001b[0margs\u001b[0m\u001b[0;34m,\u001b[0m \u001b[0;34m**\u001b[0m\u001b[0mkwargs\u001b[0m\u001b[0;34m)\u001b[0m\u001b[0;34m\u001b[0m\u001b[0;34m\u001b[0m\u001b[0m\n\u001b[0m\u001b[1;32m    109\u001b[0m \u001b[0;34m\u001b[0m\u001b[0m\n\u001b[1;32m    110\u001b[0m     \u001b[0;31m# Running inside `run_distribute_coordinator` already.\u001b[0m\u001b[0;34m\u001b[0m\u001b[0;34m\u001b[0m\u001b[0;34m\u001b[0m\u001b[0m\n",
            "\u001b[0;32m/usr/local/lib/python3.6/dist-packages/tensorflow/python/keras/engine/training.py\u001b[0m in \u001b[0;36mfit\u001b[0;34m(self, x, y, batch_size, epochs, verbose, callbacks, validation_split, validation_data, shuffle, class_weight, sample_weight, initial_epoch, steps_per_epoch, validation_steps, validation_batch_size, validation_freq, max_queue_size, workers, use_multiprocessing)\u001b[0m\n\u001b[1;32m   1131\u001b[0m               \u001b[0mworkers\u001b[0m\u001b[0;34m=\u001b[0m\u001b[0mworkers\u001b[0m\u001b[0;34m,\u001b[0m\u001b[0;34m\u001b[0m\u001b[0;34m\u001b[0m\u001b[0m\n\u001b[1;32m   1132\u001b[0m               \u001b[0muse_multiprocessing\u001b[0m\u001b[0;34m=\u001b[0m\u001b[0muse_multiprocessing\u001b[0m\u001b[0;34m,\u001b[0m\u001b[0;34m\u001b[0m\u001b[0;34m\u001b[0m\u001b[0m\n\u001b[0;32m-> 1133\u001b[0;31m               return_dict=True)\n\u001b[0m\u001b[1;32m   1134\u001b[0m           \u001b[0mval_logs\u001b[0m \u001b[0;34m=\u001b[0m \u001b[0;34m{\u001b[0m\u001b[0;34m'val_'\u001b[0m \u001b[0;34m+\u001b[0m \u001b[0mname\u001b[0m\u001b[0;34m:\u001b[0m \u001b[0mval\u001b[0m \u001b[0;32mfor\u001b[0m \u001b[0mname\u001b[0m\u001b[0;34m,\u001b[0m \u001b[0mval\u001b[0m \u001b[0;32min\u001b[0m \u001b[0mval_logs\u001b[0m\u001b[0;34m.\u001b[0m\u001b[0mitems\u001b[0m\u001b[0;34m(\u001b[0m\u001b[0;34m)\u001b[0m\u001b[0;34m}\u001b[0m\u001b[0;34m\u001b[0m\u001b[0;34m\u001b[0m\u001b[0m\n\u001b[1;32m   1135\u001b[0m           \u001b[0mepoch_logs\u001b[0m\u001b[0;34m.\u001b[0m\u001b[0mupdate\u001b[0m\u001b[0;34m(\u001b[0m\u001b[0mval_logs\u001b[0m\u001b[0;34m)\u001b[0m\u001b[0;34m\u001b[0m\u001b[0;34m\u001b[0m\u001b[0m\n",
            "\u001b[0;32m/usr/local/lib/python3.6/dist-packages/tensorflow/python/keras/engine/training.py\u001b[0m in \u001b[0;36m_method_wrapper\u001b[0;34m(self, *args, **kwargs)\u001b[0m\n\u001b[1;32m    106\u001b[0m   \u001b[0;32mdef\u001b[0m \u001b[0m_method_wrapper\u001b[0m\u001b[0;34m(\u001b[0m\u001b[0mself\u001b[0m\u001b[0;34m,\u001b[0m \u001b[0;34m*\u001b[0m\u001b[0margs\u001b[0m\u001b[0;34m,\u001b[0m \u001b[0;34m**\u001b[0m\u001b[0mkwargs\u001b[0m\u001b[0;34m)\u001b[0m\u001b[0;34m:\u001b[0m\u001b[0;34m\u001b[0m\u001b[0;34m\u001b[0m\u001b[0m\n\u001b[1;32m    107\u001b[0m     \u001b[0;32mif\u001b[0m \u001b[0;32mnot\u001b[0m \u001b[0mself\u001b[0m\u001b[0;34m.\u001b[0m\u001b[0m_in_multi_worker_mode\u001b[0m\u001b[0;34m(\u001b[0m\u001b[0;34m)\u001b[0m\u001b[0;34m:\u001b[0m  \u001b[0;31m# pylint: disable=protected-access\u001b[0m\u001b[0;34m\u001b[0m\u001b[0;34m\u001b[0m\u001b[0m\n\u001b[0;32m--> 108\u001b[0;31m       \u001b[0;32mreturn\u001b[0m \u001b[0mmethod\u001b[0m\u001b[0;34m(\u001b[0m\u001b[0mself\u001b[0m\u001b[0;34m,\u001b[0m \u001b[0;34m*\u001b[0m\u001b[0margs\u001b[0m\u001b[0;34m,\u001b[0m \u001b[0;34m**\u001b[0m\u001b[0mkwargs\u001b[0m\u001b[0;34m)\u001b[0m\u001b[0;34m\u001b[0m\u001b[0;34m\u001b[0m\u001b[0m\n\u001b[0m\u001b[1;32m    109\u001b[0m \u001b[0;34m\u001b[0m\u001b[0m\n\u001b[1;32m    110\u001b[0m     \u001b[0;31m# Running inside `run_distribute_coordinator` already.\u001b[0m\u001b[0;34m\u001b[0m\u001b[0;34m\u001b[0m\u001b[0;34m\u001b[0m\u001b[0m\n",
            "\u001b[0;32m/usr/local/lib/python3.6/dist-packages/tensorflow/python/keras/engine/training.py\u001b[0m in \u001b[0;36mevaluate\u001b[0;34m(self, x, y, batch_size, verbose, sample_weight, steps, callbacks, max_queue_size, workers, use_multiprocessing, return_dict)\u001b[0m\n\u001b[1;32m   1377\u001b[0m             \u001b[0;32mwith\u001b[0m \u001b[0mtrace\u001b[0m\u001b[0;34m.\u001b[0m\u001b[0mTrace\u001b[0m\u001b[0;34m(\u001b[0m\u001b[0;34m'TraceContext'\u001b[0m\u001b[0;34m,\u001b[0m \u001b[0mgraph_type\u001b[0m\u001b[0;34m=\u001b[0m\u001b[0;34m'test'\u001b[0m\u001b[0;34m,\u001b[0m \u001b[0mstep_num\u001b[0m\u001b[0;34m=\u001b[0m\u001b[0mstep\u001b[0m\u001b[0;34m)\u001b[0m\u001b[0;34m:\u001b[0m\u001b[0;34m\u001b[0m\u001b[0;34m\u001b[0m\u001b[0m\n\u001b[1;32m   1378\u001b[0m               \u001b[0mcallbacks\u001b[0m\u001b[0;34m.\u001b[0m\u001b[0mon_test_batch_begin\u001b[0m\u001b[0;34m(\u001b[0m\u001b[0mstep\u001b[0m\u001b[0;34m)\u001b[0m\u001b[0;34m\u001b[0m\u001b[0;34m\u001b[0m\u001b[0m\n\u001b[0;32m-> 1379\u001b[0;31m               \u001b[0mtmp_logs\u001b[0m \u001b[0;34m=\u001b[0m \u001b[0mtest_function\u001b[0m\u001b[0;34m(\u001b[0m\u001b[0miterator\u001b[0m\u001b[0;34m)\u001b[0m\u001b[0;34m\u001b[0m\u001b[0;34m\u001b[0m\u001b[0m\n\u001b[0m\u001b[1;32m   1380\u001b[0m               \u001b[0;32mif\u001b[0m \u001b[0mdata_handler\u001b[0m\u001b[0;34m.\u001b[0m\u001b[0mshould_sync\u001b[0m\u001b[0;34m:\u001b[0m\u001b[0;34m\u001b[0m\u001b[0;34m\u001b[0m\u001b[0m\n\u001b[1;32m   1381\u001b[0m                 \u001b[0mcontext\u001b[0m\u001b[0;34m.\u001b[0m\u001b[0masync_wait\u001b[0m\u001b[0;34m(\u001b[0m\u001b[0;34m)\u001b[0m\u001b[0;34m\u001b[0m\u001b[0;34m\u001b[0m\u001b[0m\n",
            "\u001b[0;32m/usr/local/lib/python3.6/dist-packages/tensorflow/python/eager/def_function.py\u001b[0m in \u001b[0;36m__call__\u001b[0;34m(self, *args, **kwds)\u001b[0m\n\u001b[1;32m    778\u001b[0m       \u001b[0;32melse\u001b[0m\u001b[0;34m:\u001b[0m\u001b[0;34m\u001b[0m\u001b[0;34m\u001b[0m\u001b[0m\n\u001b[1;32m    779\u001b[0m         \u001b[0mcompiler\u001b[0m \u001b[0;34m=\u001b[0m \u001b[0;34m\"nonXla\"\u001b[0m\u001b[0;34m\u001b[0m\u001b[0;34m\u001b[0m\u001b[0m\n\u001b[0;32m--> 780\u001b[0;31m         \u001b[0mresult\u001b[0m \u001b[0;34m=\u001b[0m \u001b[0mself\u001b[0m\u001b[0;34m.\u001b[0m\u001b[0m_call\u001b[0m\u001b[0;34m(\u001b[0m\u001b[0;34m*\u001b[0m\u001b[0margs\u001b[0m\u001b[0;34m,\u001b[0m \u001b[0;34m**\u001b[0m\u001b[0mkwds\u001b[0m\u001b[0;34m)\u001b[0m\u001b[0;34m\u001b[0m\u001b[0;34m\u001b[0m\u001b[0m\n\u001b[0m\u001b[1;32m    781\u001b[0m \u001b[0;34m\u001b[0m\u001b[0m\n\u001b[1;32m    782\u001b[0m       \u001b[0mnew_tracing_count\u001b[0m \u001b[0;34m=\u001b[0m \u001b[0mself\u001b[0m\u001b[0;34m.\u001b[0m\u001b[0m_get_tracing_count\u001b[0m\u001b[0;34m(\u001b[0m\u001b[0;34m)\u001b[0m\u001b[0;34m\u001b[0m\u001b[0;34m\u001b[0m\u001b[0m\n",
            "\u001b[0;32m/usr/local/lib/python3.6/dist-packages/tensorflow/python/eager/def_function.py\u001b[0m in \u001b[0;36m_call\u001b[0;34m(self, *args, **kwds)\u001b[0m\n\u001b[1;32m    812\u001b[0m       \u001b[0;31m# In this case we have not created variables on the first call. So we can\u001b[0m\u001b[0;34m\u001b[0m\u001b[0;34m\u001b[0m\u001b[0;34m\u001b[0m\u001b[0m\n\u001b[1;32m    813\u001b[0m       \u001b[0;31m# run the first trace but we should fail if variables are created.\u001b[0m\u001b[0;34m\u001b[0m\u001b[0;34m\u001b[0m\u001b[0;34m\u001b[0m\u001b[0m\n\u001b[0;32m--> 814\u001b[0;31m       \u001b[0mresults\u001b[0m \u001b[0;34m=\u001b[0m \u001b[0mself\u001b[0m\u001b[0;34m.\u001b[0m\u001b[0m_stateful_fn\u001b[0m\u001b[0;34m(\u001b[0m\u001b[0;34m*\u001b[0m\u001b[0margs\u001b[0m\u001b[0;34m,\u001b[0m \u001b[0;34m**\u001b[0m\u001b[0mkwds\u001b[0m\u001b[0;34m)\u001b[0m\u001b[0;34m\u001b[0m\u001b[0;34m\u001b[0m\u001b[0m\n\u001b[0m\u001b[1;32m    815\u001b[0m       \u001b[0;32mif\u001b[0m \u001b[0mself\u001b[0m\u001b[0;34m.\u001b[0m\u001b[0m_created_variables\u001b[0m\u001b[0;34m:\u001b[0m\u001b[0;34m\u001b[0m\u001b[0;34m\u001b[0m\u001b[0m\n\u001b[1;32m    816\u001b[0m         raise ValueError(\"Creating variables on a non-first call to a function\"\n",
            "\u001b[0;32m/usr/local/lib/python3.6/dist-packages/tensorflow/python/eager/function.py\u001b[0m in \u001b[0;36m__call__\u001b[0;34m(self, *args, **kwargs)\u001b[0m\n\u001b[1;32m   2827\u001b[0m     \u001b[0;32mwith\u001b[0m \u001b[0mself\u001b[0m\u001b[0;34m.\u001b[0m\u001b[0m_lock\u001b[0m\u001b[0;34m:\u001b[0m\u001b[0;34m\u001b[0m\u001b[0;34m\u001b[0m\u001b[0m\n\u001b[1;32m   2828\u001b[0m       \u001b[0mgraph_function\u001b[0m\u001b[0;34m,\u001b[0m \u001b[0margs\u001b[0m\u001b[0;34m,\u001b[0m \u001b[0mkwargs\u001b[0m \u001b[0;34m=\u001b[0m \u001b[0mself\u001b[0m\u001b[0;34m.\u001b[0m\u001b[0m_maybe_define_function\u001b[0m\u001b[0;34m(\u001b[0m\u001b[0margs\u001b[0m\u001b[0;34m,\u001b[0m \u001b[0mkwargs\u001b[0m\u001b[0;34m)\u001b[0m\u001b[0;34m\u001b[0m\u001b[0;34m\u001b[0m\u001b[0m\n\u001b[0;32m-> 2829\u001b[0;31m     \u001b[0;32mreturn\u001b[0m \u001b[0mgraph_function\u001b[0m\u001b[0;34m.\u001b[0m\u001b[0m_filtered_call\u001b[0m\u001b[0;34m(\u001b[0m\u001b[0margs\u001b[0m\u001b[0;34m,\u001b[0m \u001b[0mkwargs\u001b[0m\u001b[0;34m)\u001b[0m  \u001b[0;31m# pylint: disable=protected-access\u001b[0m\u001b[0;34m\u001b[0m\u001b[0;34m\u001b[0m\u001b[0m\n\u001b[0m\u001b[1;32m   2830\u001b[0m \u001b[0;34m\u001b[0m\u001b[0m\n\u001b[1;32m   2831\u001b[0m   \u001b[0;34m@\u001b[0m\u001b[0mproperty\u001b[0m\u001b[0;34m\u001b[0m\u001b[0;34m\u001b[0m\u001b[0m\n",
            "\u001b[0;32m/usr/local/lib/python3.6/dist-packages/tensorflow/python/eager/function.py\u001b[0m in \u001b[0;36m_filtered_call\u001b[0;34m(self, args, kwargs, cancellation_manager)\u001b[0m\n\u001b[1;32m   1846\u001b[0m                            resource_variable_ops.BaseResourceVariable))],\n\u001b[1;32m   1847\u001b[0m         \u001b[0mcaptured_inputs\u001b[0m\u001b[0;34m=\u001b[0m\u001b[0mself\u001b[0m\u001b[0;34m.\u001b[0m\u001b[0mcaptured_inputs\u001b[0m\u001b[0;34m,\u001b[0m\u001b[0;34m\u001b[0m\u001b[0;34m\u001b[0m\u001b[0m\n\u001b[0;32m-> 1848\u001b[0;31m         cancellation_manager=cancellation_manager)\n\u001b[0m\u001b[1;32m   1849\u001b[0m \u001b[0;34m\u001b[0m\u001b[0m\n\u001b[1;32m   1850\u001b[0m   \u001b[0;32mdef\u001b[0m \u001b[0m_call_flat\u001b[0m\u001b[0;34m(\u001b[0m\u001b[0mself\u001b[0m\u001b[0;34m,\u001b[0m \u001b[0margs\u001b[0m\u001b[0;34m,\u001b[0m \u001b[0mcaptured_inputs\u001b[0m\u001b[0;34m,\u001b[0m \u001b[0mcancellation_manager\u001b[0m\u001b[0;34m=\u001b[0m\u001b[0;32mNone\u001b[0m\u001b[0;34m)\u001b[0m\u001b[0;34m:\u001b[0m\u001b[0;34m\u001b[0m\u001b[0;34m\u001b[0m\u001b[0m\n",
            "\u001b[0;32m/usr/local/lib/python3.6/dist-packages/tensorflow/python/eager/function.py\u001b[0m in \u001b[0;36m_call_flat\u001b[0;34m(self, args, captured_inputs, cancellation_manager)\u001b[0m\n\u001b[1;32m   1922\u001b[0m       \u001b[0;31m# No tape is watching; skip to running the function.\u001b[0m\u001b[0;34m\u001b[0m\u001b[0;34m\u001b[0m\u001b[0;34m\u001b[0m\u001b[0m\n\u001b[1;32m   1923\u001b[0m       return self._build_call_outputs(self._inference_function.call(\n\u001b[0;32m-> 1924\u001b[0;31m           ctx, args, cancellation_manager=cancellation_manager))\n\u001b[0m\u001b[1;32m   1925\u001b[0m     forward_backward = self._select_forward_and_backward_functions(\n\u001b[1;32m   1926\u001b[0m         \u001b[0margs\u001b[0m\u001b[0;34m,\u001b[0m\u001b[0;34m\u001b[0m\u001b[0;34m\u001b[0m\u001b[0m\n",
            "\u001b[0;32m/usr/local/lib/python3.6/dist-packages/tensorflow/python/eager/function.py\u001b[0m in \u001b[0;36mcall\u001b[0;34m(self, ctx, args, cancellation_manager)\u001b[0m\n\u001b[1;32m    548\u001b[0m               \u001b[0minputs\u001b[0m\u001b[0;34m=\u001b[0m\u001b[0margs\u001b[0m\u001b[0;34m,\u001b[0m\u001b[0;34m\u001b[0m\u001b[0;34m\u001b[0m\u001b[0m\n\u001b[1;32m    549\u001b[0m               \u001b[0mattrs\u001b[0m\u001b[0;34m=\u001b[0m\u001b[0mattrs\u001b[0m\u001b[0;34m,\u001b[0m\u001b[0;34m\u001b[0m\u001b[0;34m\u001b[0m\u001b[0m\n\u001b[0;32m--> 550\u001b[0;31m               ctx=ctx)\n\u001b[0m\u001b[1;32m    551\u001b[0m         \u001b[0;32melse\u001b[0m\u001b[0;34m:\u001b[0m\u001b[0;34m\u001b[0m\u001b[0;34m\u001b[0m\u001b[0m\n\u001b[1;32m    552\u001b[0m           outputs = execute.execute_with_cancellation(\n",
            "\u001b[0;32m/usr/local/lib/python3.6/dist-packages/tensorflow/python/eager/execute.py\u001b[0m in \u001b[0;36mquick_execute\u001b[0;34m(op_name, num_outputs, inputs, attrs, ctx, name)\u001b[0m\n\u001b[1;32m     58\u001b[0m     \u001b[0mctx\u001b[0m\u001b[0;34m.\u001b[0m\u001b[0mensure_initialized\u001b[0m\u001b[0;34m(\u001b[0m\u001b[0;34m)\u001b[0m\u001b[0;34m\u001b[0m\u001b[0;34m\u001b[0m\u001b[0m\n\u001b[1;32m     59\u001b[0m     tensors = pywrap_tfe.TFE_Py_Execute(ctx._handle, device_name, op_name,\n\u001b[0;32m---> 60\u001b[0;31m                                         inputs, attrs, num_outputs)\n\u001b[0m\u001b[1;32m     61\u001b[0m   \u001b[0;32mexcept\u001b[0m \u001b[0mcore\u001b[0m\u001b[0;34m.\u001b[0m\u001b[0m_NotOkStatusException\u001b[0m \u001b[0;32mas\u001b[0m \u001b[0me\u001b[0m\u001b[0;34m:\u001b[0m\u001b[0;34m\u001b[0m\u001b[0;34m\u001b[0m\u001b[0m\n\u001b[1;32m     62\u001b[0m     \u001b[0;32mif\u001b[0m \u001b[0mname\u001b[0m \u001b[0;32mis\u001b[0m \u001b[0;32mnot\u001b[0m \u001b[0;32mNone\u001b[0m\u001b[0;34m:\u001b[0m\u001b[0;34m\u001b[0m\u001b[0;34m\u001b[0m\u001b[0m\n",
            "\u001b[0;31mKeyboardInterrupt\u001b[0m: "
          ]
        }
      ]
    },
    {
      "cell_type": "code",
      "metadata": {
        "id": "nTFWv3Kx4TG6"
      },
      "source": [
        ""
      ],
      "execution_count": null,
      "outputs": []
    }
  ]
}